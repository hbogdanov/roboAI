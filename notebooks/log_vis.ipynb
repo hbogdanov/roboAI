{
 "cells": [
  {
   "cell_type": "code",
   "execution_count": 13,
   "id": "0badd624",
   "metadata": {},
   "outputs": [
    {
     "name": "stdout",
     "output_type": "stream",
     "text": [
      "python: c:\\Users\\Ivan\\roboAI\\.venv\\Scripts\\python.exe\n",
      "plotly: 6.3.1\n",
      "nbformat: 5.10.4\n",
      "renderer: browser\n"
     ]
    }
   ],
   "source": [
    "import sys, plotly\n",
    "print(\"python:\", sys.executable)\n",
    "print(\"plotly:\", plotly.__version__)\n",
    "try:\n",
    "    import nbformat\n",
    "    print(\"nbformat:\", nbformat.__version__)\n",
    "except Exception as e:\n",
    "    print(\"nbformat import error:\", e)\n",
    "import plotly.io as pio\n",
    "print(\"renderer:\", pio.renderers.default)"
   ]
  },
  {
   "cell_type": "code",
   "execution_count": 14,
   "id": "2238d5c0",
   "metadata": {},
   "outputs": [
    {
     "name": "stdout",
     "output_type": "stream",
     "text": [
      "Loaded log: run_20251005_161349.json — events: 118\n",
      "Saved HTML to: ..\\reports\\wheel_cmds.html and ..\\reports\\path.html\n"
     ]
    }
   ],
   "source": [
    "import json, os\n",
    "from pathlib import Path\n",
    "import pandas as pd\n",
    "import plotly.express as px\n",
    "import plotly.graph_objects as go\n",
    "import plotly.io as pio\n",
    "\n",
    "pio.renderers.default = \"browser\"\n",
    "\n",
    "LOG_DIR = Path(\"../data/logs\")\n",
    "files = sorted(LOG_DIR.glob(\"run_*.json\"))\n",
    "assert files, f\"No logs found in {LOG_DIR}\"\n",
    "with open(files[-1], \"r\", encoding=\"utf-8\") as f:\n",
    "    data = json.load(f)\n",
    "\n",
    "events = data.get(\"events\", [])\n",
    "df = pd.json_normalize(events)\n",
    "df[\"t0\"] = df[\"t\"] - df[\"t\"].min() if \"t\" in df.columns else range(len(df))\n",
    "\n",
    "# Path (x,y) from spa_tick\n",
    "need_cols = {\"t0\",\"x\",\"y\",\"left_cmd\",\"right_cmd\"}\n",
    "path_df = df[df[\"op\"] == \"spa_tick\"].copy()\n",
    "missing = need_cols - set(path_df.columns)\n",
    "if missing:\n",
    "    print(\"Heads up: missing columns in spa_tick:\", missing)\n",
    "if path_df.empty:\n",
    "    raise RuntimeError(\"No 'spa_tick' rows found. Make sure you ran the SPA controller (the planner version logs spa_tick each tick).\")\n",
    "\n",
    "# Wheel command time series\n",
    "fig_cmds = go.Figure()\n",
    "fig_cmds.add_trace(go.Scatter(x=path_df[\"t0\"], y=path_df.get(\"left_cmd\"),  name=\"left_cmd\"))\n",
    "fig_cmds.add_trace(go.Scatter(x=path_df[\"t0\"], y=path_df.get(\"right_cmd\"), name=\"right_cmd\"))\n",
    "fig_cmds.update_layout(title=\"Wheel commands vs time\", xaxis_title=\"time (s)\", yaxis_title=\"rad/s\")\n",
    "fig_cmds.show()\n",
    "\n",
    "# Path plot (x,y)\n",
    "fig_path = px.line(path_df, x=\"x\", y=\"y\", title=\"Estimated path\")\n",
    "fig_path.update_yaxes(scaleanchor=\"x\", scaleratio=1)\n",
    "fig_path.show()\n",
    "\n",
    "# Front obstacle level during forward ticks\n",
    "if \"front\" in df.columns:\n",
    "    front_df = df[df[\"op\"] == \"spa_forward_tick\"][[\"t0\",\"front\"]]\n",
    "    if not front_df.empty:\n",
    "        fig_front = px.line(front_df, x=\"t0\", y=\"front\", title=\"Front obstacle level (normalized)\")\n",
    "        fig_front.show()\n",
    "\n",
    "# Also save HTML copies\n",
    "out_dir = Path(\"../reports\"); out_dir.mkdir(parents=True, exist_ok=True)\n",
    "fig_cmds.write_html(out_dir / \"wheel_cmds.html\")\n",
    "fig_path.write_html(out_dir / \"path.html\")\n",
    "print(f\"Loaded log: {files[-1].name} — events: {len(df)}\")\n",
    "print(f\"Saved HTML to: {out_dir/'wheel_cmds.html'} and {out_dir/'path.html'}\")\n"
   ]
  }
 ],
 "metadata": {
  "kernelspec": {
   "display_name": ".venv",
   "language": "python",
   "name": "python3"
  },
  "language_info": {
   "codemirror_mode": {
    "name": "ipython",
    "version": 3
   },
   "file_extension": ".py",
   "mimetype": "text/x-python",
   "name": "python",
   "nbconvert_exporter": "python",
   "pygments_lexer": "ipython3",
   "version": "3.12.7"
  }
 },
 "nbformat": 4,
 "nbformat_minor": 5
}
